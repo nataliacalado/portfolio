{
  "nbformat": 4,
  "nbformat_minor": 0,
  "metadata": {
    "colab": {
      "name": "Projeto Titanic.ipynb",
      "provenance": [],
      "collapsed_sections": [],
      "authorship_tag": "ABX9TyO9lkUtkjV53q+KY1nPqcIy",
      "include_colab_link": true
    },
    "kernelspec": {
      "name": "python3",
      "display_name": "Python 3"
    }
  },
  "cells": [
    {
      "cell_type": "markdown",
      "metadata": {
        "id": "view-in-github",
        "colab_type": "text"
      },
      "source": [
        "<a href=\"https://colab.research.google.com/github/nataliacalado/portfolio/blob/master/Projeto_Titanic.ipynb\" target=\"_parent\"><img src=\"https://colab.research.google.com/assets/colab-badge.svg\" alt=\"Open In Colab\"/></a>"
      ]
    },
    {
      "cell_type": "markdown",
      "metadata": {
        "id": "dXlpftZ0vYeD",
        "colab_type": "text"
      },
      "source": [
        "#**Machine Learning: Será que você sobreviveria ao naufrágio do Titanic?**#\n",
        "\n",
        "Neste artigo vamos fazer uma análise exploratória de dados e a construção de um modelo de Machine Larning referente a maior competição do site Kanggle, [***Titanic: Machine Learning from Distaster***](https://https://www.kaggle.com/c/titanic)."
      ]
    },
    {
      "cell_type": "markdown",
      "metadata": {
        "id": "2KLSsM-7Dg9F",
        "colab_type": "text"
      },
      "source": [
        "#**Primeiros passos**\n",
        "\n",
        "Antes de começarmos esse projeto vamos criar primeiro um checklist com algumas etapas que precisamos seguir para fazer essa análise de forma assertiva.\n",
        "\n",
        "Para esse desafio vamos seguir as seguintes etapas:\n",
        "\n",
        "1.   **Definição do Problema**\n",
        "2.   **Obtenção dos Dados**\n",
        "3.   **Exploração dos Dados**\n",
        "4.   **Preparação dos Dados**\n",
        "5.   **Modelagem**\n",
        "6.   **Avaliação**\n",
        "\n",
        "\n"
      ]
    },
    {
      "cell_type": "markdown",
      "metadata": {
        "id": "s-Nmka63Fg-h",
        "colab_type": "text"
      },
      "source": [
        "#**1. Definição do Problema**\n",
        "\n",
        "##**1.1 A História**\n",
        "\n",
        "O RMS Titanic era um navio britânico do século XX projetado pelos engenheiros navais Alexander Carlisle e Thomas Andrews, sua construção iniciou no dia 31 de março de 1909 e foi lançado ao mar em maio de 1911. Pronto ele tinha 269 m de comprimento, 53,3 m de altura e 46.328 toneladas brutas e sua capacidade total era prevista para 3.547 passageiros.\n",
        "\n",
        "Sua construção foi pensada para ser o maior navio, mais luxuoso e mais seguro de todos e a quem dizia que era \"inafundável\".\n",
        "\n",
        "O Titanic chegou ao porto em 03 de abril de 1912 e no dia 10 do mesmo mês os passageiros começaram a embarcar para a viagem inaugural, que iria da Southampton, na Inglaterra, a Nova York, nos EUA.\n",
        "\n",
        "No dia 14 às 23h40, houve a colisão. O iceberg foi visto muito tarde para ser tomada qualquer ação para evitar esse desastre e mesmo com todas as tentativas possíveis para o desvio, o choque foi inevitável. Mas ao contrário do que muitos pensam, o impacto não causou um rasco no casco e sim um rompimento dos rebites entre as chapas, que chegou a mais de 60 m de comprimento.\n",
        "\n",
        "O capitão do navio Edward Smith chegou a ponte de controle logo que soube do ocorrido e ordenou o fechamento das comportas que dava para as caldeiras e para o motor para poder isolar uma possível inundação dessas áreas e solicitou que alguns tripulantes fosse até o local para averiguar o estrago e as 23h50 ele já sabia o destino final do grandioso, luxuoso e seguro navio.\n",
        "\n",
        "Vários pedidos de socorro foram enviados, o primeiro ás 00h10, código morse com um pedido de socorro foi enviado para um navio que estava a 93km do local e que chegou apenas as 04h10 e os outros foram os sinalizadores que foram vistos por uma embarcação próxima, mas que não se manifestou de nenhuma forma.\n",
        "\n",
        "O fim já estava decretado para aquele navio, então as 00h45 os botes salva vidas começaram a ser lançados ao mar com os tripulantes, porém só tinham 20 unidades o suficiente para carregar 1.178 tripulantes das 2.224 que estavam no navio. Mas por conta do desespero e da falta de preparo para essa situação apenas 705 pessoas foram resgatadas.\n",
        "\n",
        "Após o naufrágio total do Titanic apenas um bote voltou para tentar resgatar sobreviventes, onde encontrou apenas 04 pessoas e ficaram todos vagando pela escuridão até o navio Carpathia chegar e realizar o resgate que levou 4h para acontecer e no dia 18 enfim chegaram a Nova York.\n",
        "\n",
        "\n",
        "\n",
        "\n"
      ]
    },
    {
      "cell_type": "markdown",
      "metadata": {
        "id": "3Dfx_dtY_IGx",
        "colab_type": "text"
      },
      "source": [
        "##**1.2 O Desafio**#\n",
        "\n",
        "No desafio é proposto que façamos um modelo preditivo que responda a seguinte pergunta:\n",
        "\n",
        "*   Que tipo de pessoas têm maior probabilidade de sobreviver?\n",
        "\n",
        "Com isso veremos se, os sobreviventes dessa tragédia tiveram apenas sorte ou tiveram outra influência? Além disso, no filme ficou bem evidente que a prioridade eram as crianças, mulheres e idosos, será que realmente isso aconteceu? E Jack e Rose, será que ambos sobreviveriam se estivessem em uma situação social diferente?\n",
        "\n",
        "\n",
        "\n",
        "\n",
        "\n"
      ]
    },
    {
      "cell_type": "markdown",
      "metadata": {
        "id": "byHIIG95Frww",
        "colab_type": "text"
      },
      "source": [
        "#**2. Obtenção dos Dados**\n",
        "\n",
        "Para isso vamos realizar o download de dois arquivos de dados semelhantes que contém informações sobre os passageiros (train.csv e test.csv) e gerar um arquivo de previsão para nos ajudar a responder a pergunta proposta.\n",
        "\n",
        "* **Dataset de treinamento (train.csv):** este dataset deverá ser utilizado para treinar o modelo de machine learning que iremos construir. Aqui temos algumas informações de alguns passageiros que estavam a bordo, inclusive se eles sobreviveram ou não.\n",
        "\n",
        "* **Dataset de teste (test.csv):** esse conjunto de dados será utilizado para testarmos o desempenho do modelo nos dados não preenchidos que temos, ou seja, vamos ver se a previsão do modelo está sendo assertiva ou não.\n"
      ]
    },
    {
      "cell_type": "markdown",
      "metadata": {
        "id": "l3jqQ76MKYAK",
        "colab_type": "text"
      },
      "source": [
        "#**3. Exploração dos Dados**\n",
        "\n",
        "Essa é a principal etapa de todo o projeto e é aqui que vamos suar a camisa um pouco, cerca de 70% a 80% do nosso tempo será gasto nessa etapa, então prepare-se!!!"
      ]
    },
    {
      "cell_type": "markdown",
      "metadata": {
        "id": "Qcv7lgrtUWoV",
        "colab_type": "text"
      },
      "source": [
        "##**3.1 Conhecendo o Dataset**\n",
        "\n",
        "Nessa etapa do projeto vamos realizar a importação dos datasets disponíveis, verificar quais informações temos, criar um dicionário de variáveis, verificar qual o tipo dessas variáveis, qual o percentual de valores nulos, verificar se existem ruídos ou outliers e por fim verificar qual o tipo de distribuição que encontramos.\n",
        "\n",
        "Então bora começar!!!"
      ]
    },
    {
      "cell_type": "code",
      "metadata": {
        "id": "oI9RTB9Xn83V",
        "colab_type": "code",
        "colab": {}
      },
      "source": [
        "# importando os pacotes necessários\n",
        "import pandas as pd\n",
        "import numpy as np\n",
        "import matplotlib.pyplot as plt\n",
        "import seaborn as sns\n",
        "\n",
        "# permitir visualizar todas as colunas\n",
        "pd.options.display.max_columns = None\n",
        "\n",
        "# renderizar os gráficos diretamento no notebook\n",
        "%matplotlib inline\n",
        "\n",
        "# importar bibliotecas do modelo de Machine Learning\n",
        "from sklearn.tree import DecisionTreeClassifier"
      ],
      "execution_count": 0,
      "outputs": []
    },
    {
      "cell_type": "code",
      "metadata": {
        "id": "ek2CE7cn4_gO",
        "colab_type": "code",
        "colab": {}
      },
      "source": [
        "# importando os dados\n",
        "train = pd.read_csv('https://raw.githubusercontent.com/nataliacalado/dataset/master/train.csv')\n",
        "test = pd.read_csv('https://raw.githubusercontent.com/nataliacalado/dataset/master/test.csv')"
      ],
      "execution_count": 0,
      "outputs": []
    },
    {
      "cell_type": "code",
      "metadata": {
        "id": "i5rngaSlWzp5",
        "colab_type": "code",
        "outputId": "b475d879-6685-4820-b1e3-d95eb047a681",
        "colab": {
          "base_uri": "https://localhost:8080/",
          "height": 53
        }
      },
      "source": [
        "# verificando a quantidade de entradas e de variáveis\n",
        "linhas = train.shape[0]\n",
        "colunas = train.shape[1]\n",
        "print('Nº de linhas:',linhas)\n",
        "print('Nº de colunas:',colunas)"
      ],
      "execution_count": 4,
      "outputs": [
        {
          "output_type": "stream",
          "text": [
            "Nº de linhas: 891\n",
            "Nº de colunas: 12\n"
          ],
          "name": "stdout"
        }
      ]
    },
    {
      "cell_type": "markdown",
      "metadata": {
        "id": "iu7QIcvYXaII",
        "colab_type": "text"
      },
      "source": [
        "Até agora descobrimos que nosso dataset train.csv possui um total de 12 variáveis e 891 entradas de dados. E quais são essas variáveis? De que tipo são?\n",
        "\n",
        "É o que vamos descobrir agora...."
      ]
    },
    {
      "cell_type": "markdown",
      "metadata": {
        "id": "dHuXc7kWTkOF",
        "colab_type": "text"
      },
      "source": [
        "###**3.1.1 Dicionários de Variáveis**"
      ]
    },
    {
      "cell_type": "markdown",
      "metadata": {
        "id": "ZYnVkkzUYJ8S",
        "colab_type": "text"
      },
      "source": [
        "Para construirmos o nosso dicionário de variáveis teremos que descobrir o que tem em nosso DataFrame. Para isso vamos dar uma olhadinhas nas 05 primeiras entradas e começarmos a nos familiarizar com os dados."
      ]
    },
    {
      "cell_type": "code",
      "metadata": {
        "id": "B3ZcCpLoVUji",
        "colab_type": "code",
        "outputId": "2d3120e2-6a9b-4010-8d0e-fbf4d239aee9",
        "colab": {
          "base_uri": "https://localhost:8080/",
          "height": 204
        }
      },
      "source": [
        "# verificando as primeiras informações\n",
        "display(train.head())"
      ],
      "execution_count": 5,
      "outputs": [
        {
          "output_type": "display_data",
          "data": {
            "text/html": [
              "<div>\n",
              "<style scoped>\n",
              "    .dataframe tbody tr th:only-of-type {\n",
              "        vertical-align: middle;\n",
              "    }\n",
              "\n",
              "    .dataframe tbody tr th {\n",
              "        vertical-align: top;\n",
              "    }\n",
              "\n",
              "    .dataframe thead th {\n",
              "        text-align: right;\n",
              "    }\n",
              "</style>\n",
              "<table border=\"1\" class=\"dataframe\">\n",
              "  <thead>\n",
              "    <tr style=\"text-align: right;\">\n",
              "      <th></th>\n",
              "      <th>PassengerId</th>\n",
              "      <th>Survived</th>\n",
              "      <th>Pclass</th>\n",
              "      <th>Name</th>\n",
              "      <th>Sex</th>\n",
              "      <th>Age</th>\n",
              "      <th>SibSp</th>\n",
              "      <th>Parch</th>\n",
              "      <th>Ticket</th>\n",
              "      <th>Fare</th>\n",
              "      <th>Cabin</th>\n",
              "      <th>Embarked</th>\n",
              "    </tr>\n",
              "  </thead>\n",
              "  <tbody>\n",
              "    <tr>\n",
              "      <th>0</th>\n",
              "      <td>1</td>\n",
              "      <td>0</td>\n",
              "      <td>3</td>\n",
              "      <td>Braund, Mr. Owen Harris</td>\n",
              "      <td>male</td>\n",
              "      <td>22.0</td>\n",
              "      <td>1</td>\n",
              "      <td>0</td>\n",
              "      <td>A/5 21171</td>\n",
              "      <td>7.2500</td>\n",
              "      <td>NaN</td>\n",
              "      <td>S</td>\n",
              "    </tr>\n",
              "    <tr>\n",
              "      <th>1</th>\n",
              "      <td>2</td>\n",
              "      <td>1</td>\n",
              "      <td>1</td>\n",
              "      <td>Cumings, Mrs. John Bradley (Florence Briggs Th...</td>\n",
              "      <td>female</td>\n",
              "      <td>38.0</td>\n",
              "      <td>1</td>\n",
              "      <td>0</td>\n",
              "      <td>PC 17599</td>\n",
              "      <td>71.2833</td>\n",
              "      <td>C85</td>\n",
              "      <td>C</td>\n",
              "    </tr>\n",
              "    <tr>\n",
              "      <th>2</th>\n",
              "      <td>3</td>\n",
              "      <td>1</td>\n",
              "      <td>3</td>\n",
              "      <td>Heikkinen, Miss. Laina</td>\n",
              "      <td>female</td>\n",
              "      <td>26.0</td>\n",
              "      <td>0</td>\n",
              "      <td>0</td>\n",
              "      <td>STON/O2. 3101282</td>\n",
              "      <td>7.9250</td>\n",
              "      <td>NaN</td>\n",
              "      <td>S</td>\n",
              "    </tr>\n",
              "    <tr>\n",
              "      <th>3</th>\n",
              "      <td>4</td>\n",
              "      <td>1</td>\n",
              "      <td>1</td>\n",
              "      <td>Futrelle, Mrs. Jacques Heath (Lily May Peel)</td>\n",
              "      <td>female</td>\n",
              "      <td>35.0</td>\n",
              "      <td>1</td>\n",
              "      <td>0</td>\n",
              "      <td>113803</td>\n",
              "      <td>53.1000</td>\n",
              "      <td>C123</td>\n",
              "      <td>S</td>\n",
              "    </tr>\n",
              "    <tr>\n",
              "      <th>4</th>\n",
              "      <td>5</td>\n",
              "      <td>0</td>\n",
              "      <td>3</td>\n",
              "      <td>Allen, Mr. William Henry</td>\n",
              "      <td>male</td>\n",
              "      <td>35.0</td>\n",
              "      <td>0</td>\n",
              "      <td>0</td>\n",
              "      <td>373450</td>\n",
              "      <td>8.0500</td>\n",
              "      <td>NaN</td>\n",
              "      <td>S</td>\n",
              "    </tr>\n",
              "  </tbody>\n",
              "</table>\n",
              "</div>"
            ],
            "text/plain": [
              "   PassengerId  Survived  Pclass  \\\n",
              "0            1         0       3   \n",
              "1            2         1       1   \n",
              "2            3         1       3   \n",
              "3            4         1       1   \n",
              "4            5         0       3   \n",
              "\n",
              "                                                Name     Sex   Age  SibSp  \\\n",
              "0                            Braund, Mr. Owen Harris    male  22.0      1   \n",
              "1  Cumings, Mrs. John Bradley (Florence Briggs Th...  female  38.0      1   \n",
              "2                             Heikkinen, Miss. Laina  female  26.0      0   \n",
              "3       Futrelle, Mrs. Jacques Heath (Lily May Peel)  female  35.0      1   \n",
              "4                           Allen, Mr. William Henry    male  35.0      0   \n",
              "\n",
              "   Parch            Ticket     Fare Cabin Embarked  \n",
              "0      0         A/5 21171   7.2500   NaN        S  \n",
              "1      0          PC 17599  71.2833   C85        C  \n",
              "2      0  STON/O2. 3101282   7.9250   NaN        S  \n",
              "3      0            113803  53.1000  C123        S  \n",
              "4      0            373450   8.0500   NaN        S  "
            ]
          },
          "metadata": {
            "tags": []
          }
        }
      ]
    },
    {
      "cell_type": "markdown",
      "metadata": {
        "id": "9JGNx7H1VseP",
        "colab_type": "text"
      },
      "source": [
        "* **PassengerId:** número de identificação de cada passageiro\n",
        "* **Survival:** passageiros que sobreviveram (Sim = 1, Não = 0)\n",
        "* **Pclass:** classe dos passageiros (1º Classe = 1, 2ª Classe = 2, 3ª Classe = 3)\n",
        "* **Name:** nome dos passageiros\n",
        "* **Sex:** sexo dos passageiros\n",
        "* **Age:** idade dos passageiros\n",
        "* **Sibsp:** nº de irmãos e cônjuges a bordo\n",
        "* **Parch:** nº de pais e filhos a bordo\n",
        "* **Ticket:** número do ticket de cada passageiro\n",
        "* **Fare:** preço da passagem paga\n",
        "* **Cabin:** número da cabine\n",
        "* **Embarked:** local de embarque (Cherbourg = C, Queenstown = Q, Southampton = S)"
      ]
    },
    {
      "cell_type": "markdown",
      "metadata": {
        "id": "qGOwGkw-Yq4R",
        "colab_type": "text"
      },
      "source": [
        "Dicionário de variáveis criado, agora sim sabemos do que se tratam os dados. Mas agora precisamos descobrir de que tipo são esses dados e se existem ruídos e outliers para podermos tratar antes de começarmos a realizar as nossas análises."
      ]
    },
    {
      "cell_type": "code",
      "metadata": {
        "id": "s-oxCQy7VzK7",
        "colab_type": "code",
        "outputId": "2729eb3f-0b94-493e-bc49-b8641b72c85d",
        "colab": {
          "base_uri": "https://localhost:8080/",
          "height": 251
        }
      },
      "source": [
        "# verificando o tipo de cada variável\n",
        "display(train.dtypes)"
      ],
      "execution_count": 6,
      "outputs": [
        {
          "output_type": "display_data",
          "data": {
            "text/plain": [
              "PassengerId      int64\n",
              "Survived         int64\n",
              "Pclass           int64\n",
              "Name            object\n",
              "Sex             object\n",
              "Age            float64\n",
              "SibSp            int64\n",
              "Parch            int64\n",
              "Ticket          object\n",
              "Fare           float64\n",
              "Cabin           object\n",
              "Embarked        object\n",
              "dtype: object"
            ]
          },
          "metadata": {
            "tags": []
          }
        }
      ]
    },
    {
      "cell_type": "markdown",
      "metadata": {
        "id": "upFTbrBaavN_",
        "colab_type": "text"
      },
      "source": [
        "Existem três variáveis que possuem dados faltantes, porém a que mais trás impacto é a variável **Cabin**, com **77,1%** de seus dados faltantes. Após, temos a variável **Age** com **19,9%** de valores nulos e por fim temos a coluna **Embarked** com menos de **1%** sem informações."
      ]
    },
    {
      "cell_type": "code",
      "metadata": {
        "id": "S2R9fMhAZ29b",
        "colab_type": "code",
        "outputId": "b0a9acd4-7522-48ef-919f-fde9402cb89d",
        "colab": {
          "base_uri": "https://localhost:8080/",
          "height": 251
        }
      },
      "source": [
        "# valores faltantes\n",
        "(train.isnull().sum() / train.shape[0])*100"
      ],
      "execution_count": 7,
      "outputs": [
        {
          "output_type": "execute_result",
          "data": {
            "text/plain": [
              "PassengerId     0.000000\n",
              "Survived        0.000000\n",
              "Pclass          0.000000\n",
              "Name            0.000000\n",
              "Sex             0.000000\n",
              "Age            19.865320\n",
              "SibSp           0.000000\n",
              "Parch           0.000000\n",
              "Ticket          0.000000\n",
              "Fare            0.000000\n",
              "Cabin          77.104377\n",
              "Embarked        0.224467\n",
              "dtype: float64"
            ]
          },
          "metadata": {
            "tags": []
          },
          "execution_count": 7
        }
      ]
    },
    {
      "cell_type": "markdown",
      "metadata": {
        "id": "pOJwoDEvcD5K",
        "colab_type": "text"
      },
      "source": [
        "###**3.1.2 Começando as análises: Distribuição Estatística dos Dados**\n",
        "\n",
        "Para começarmos a realizar algumas análises dos nossos dados, vamos utilizar o método *describe()* da biblioteca Pandas e plotar um histograma. Com isso vamos conseguir identificar possíveis outliers e descobrir qual a distribuição de cada variável. Esse processo é muito importante para podermos realizar as tratativas necessárias para realizar a limpeza dos dados e decidir qual será a melhor maneira de se fazer isso, se vamos excluir ou preencher com a média/mediana."
      ]
    },
    {
      "cell_type": "code",
      "metadata": {
        "id": "k2YYBamccy8A",
        "colab_type": "code",
        "outputId": "0a755776-108a-49d6-d326-d6c70ba60691",
        "colab": {
          "base_uri": "https://localhost:8080/",
          "height": 297
        }
      },
      "source": [
        "# distribuição estatística dos dados\n",
        "train.describe()"
      ],
      "execution_count": 8,
      "outputs": [
        {
          "output_type": "execute_result",
          "data": {
            "text/html": [
              "<div>\n",
              "<style scoped>\n",
              "    .dataframe tbody tr th:only-of-type {\n",
              "        vertical-align: middle;\n",
              "    }\n",
              "\n",
              "    .dataframe tbody tr th {\n",
              "        vertical-align: top;\n",
              "    }\n",
              "\n",
              "    .dataframe thead th {\n",
              "        text-align: right;\n",
              "    }\n",
              "</style>\n",
              "<table border=\"1\" class=\"dataframe\">\n",
              "  <thead>\n",
              "    <tr style=\"text-align: right;\">\n",
              "      <th></th>\n",
              "      <th>PassengerId</th>\n",
              "      <th>Survived</th>\n",
              "      <th>Pclass</th>\n",
              "      <th>Age</th>\n",
              "      <th>SibSp</th>\n",
              "      <th>Parch</th>\n",
              "      <th>Fare</th>\n",
              "    </tr>\n",
              "  </thead>\n",
              "  <tbody>\n",
              "    <tr>\n",
              "      <th>count</th>\n",
              "      <td>891.000000</td>\n",
              "      <td>891.000000</td>\n",
              "      <td>891.000000</td>\n",
              "      <td>714.000000</td>\n",
              "      <td>891.000000</td>\n",
              "      <td>891.000000</td>\n",
              "      <td>891.000000</td>\n",
              "    </tr>\n",
              "    <tr>\n",
              "      <th>mean</th>\n",
              "      <td>446.000000</td>\n",
              "      <td>0.383838</td>\n",
              "      <td>2.308642</td>\n",
              "      <td>29.699118</td>\n",
              "      <td>0.523008</td>\n",
              "      <td>0.381594</td>\n",
              "      <td>32.204208</td>\n",
              "    </tr>\n",
              "    <tr>\n",
              "      <th>std</th>\n",
              "      <td>257.353842</td>\n",
              "      <td>0.486592</td>\n",
              "      <td>0.836071</td>\n",
              "      <td>14.526497</td>\n",
              "      <td>1.102743</td>\n",
              "      <td>0.806057</td>\n",
              "      <td>49.693429</td>\n",
              "    </tr>\n",
              "    <tr>\n",
              "      <th>min</th>\n",
              "      <td>1.000000</td>\n",
              "      <td>0.000000</td>\n",
              "      <td>1.000000</td>\n",
              "      <td>0.420000</td>\n",
              "      <td>0.000000</td>\n",
              "      <td>0.000000</td>\n",
              "      <td>0.000000</td>\n",
              "    </tr>\n",
              "    <tr>\n",
              "      <th>25%</th>\n",
              "      <td>223.500000</td>\n",
              "      <td>0.000000</td>\n",
              "      <td>2.000000</td>\n",
              "      <td>20.125000</td>\n",
              "      <td>0.000000</td>\n",
              "      <td>0.000000</td>\n",
              "      <td>7.910400</td>\n",
              "    </tr>\n",
              "    <tr>\n",
              "      <th>50%</th>\n",
              "      <td>446.000000</td>\n",
              "      <td>0.000000</td>\n",
              "      <td>3.000000</td>\n",
              "      <td>28.000000</td>\n",
              "      <td>0.000000</td>\n",
              "      <td>0.000000</td>\n",
              "      <td>14.454200</td>\n",
              "    </tr>\n",
              "    <tr>\n",
              "      <th>75%</th>\n",
              "      <td>668.500000</td>\n",
              "      <td>1.000000</td>\n",
              "      <td>3.000000</td>\n",
              "      <td>38.000000</td>\n",
              "      <td>1.000000</td>\n",
              "      <td>0.000000</td>\n",
              "      <td>31.000000</td>\n",
              "    </tr>\n",
              "    <tr>\n",
              "      <th>max</th>\n",
              "      <td>891.000000</td>\n",
              "      <td>1.000000</td>\n",
              "      <td>3.000000</td>\n",
              "      <td>80.000000</td>\n",
              "      <td>8.000000</td>\n",
              "      <td>6.000000</td>\n",
              "      <td>512.329200</td>\n",
              "    </tr>\n",
              "  </tbody>\n",
              "</table>\n",
              "</div>"
            ],
            "text/plain": [
              "       PassengerId    Survived      Pclass         Age       SibSp  \\\n",
              "count   891.000000  891.000000  891.000000  714.000000  891.000000   \n",
              "mean    446.000000    0.383838    2.308642   29.699118    0.523008   \n",
              "std     257.353842    0.486592    0.836071   14.526497    1.102743   \n",
              "min       1.000000    0.000000    1.000000    0.420000    0.000000   \n",
              "25%     223.500000    0.000000    2.000000   20.125000    0.000000   \n",
              "50%     446.000000    0.000000    3.000000   28.000000    0.000000   \n",
              "75%     668.500000    1.000000    3.000000   38.000000    1.000000   \n",
              "max     891.000000    1.000000    3.000000   80.000000    8.000000   \n",
              "\n",
              "            Parch        Fare  \n",
              "count  891.000000  891.000000  \n",
              "mean     0.381594   32.204208  \n",
              "std      0.806057   49.693429  \n",
              "min      0.000000    0.000000  \n",
              "25%      0.000000    7.910400  \n",
              "50%      0.000000   14.454200  \n",
              "75%      0.000000   31.000000  \n",
              "max      6.000000  512.329200  "
            ]
          },
          "metadata": {
            "tags": []
          },
          "execution_count": 8
        }
      ]
    },
    {
      "cell_type": "code",
      "metadata": {
        "id": "9fp0ZCUyhiAV",
        "colab_type": "code",
        "outputId": "ebe9b60c-645e-450a-c745-30b2e8b8b173",
        "colab": {
          "base_uri": "https://localhost:8080/",
          "height": 499
        }
      },
      "source": [
        "# plotando histograma para cada variável\n",
        "train.hist(figsize = (10,8));"
      ],
      "execution_count": 9,
      "outputs": [
        {
          "output_type": "display_data",
          "data": {
            "image/png": "[encoded data removed]",
            "text/plain": [
              "<Figure size 720x576 with 9 Axes>"
            ]
          },
          "metadata": {
            "tags": []
          }
        }
      ]
    },
    {
      "cell_type": "markdown",
      "metadata": {
        "id": "DaMGQECW7I15",
        "colab_type": "text"
      },
      "source": [
        "##**3.2 Respondendo algumas hipóteses: Quais grupos de pessoas tinham a maior chance de sobrevivência?**\n",
        "\n",
        "Com os dados que temos já conseguimos responder algumas hipóteses lá do começo do artigo. Será que o sexo do passageiro influenciou na sobrevivência de cada um deles? \n",
        "\n",
        "Para verificarmos quais variáveis valem apena entrar para no modelo que iremos fazer ou até mesmo para podermos criar novas hipóteses vamos olhar as correlações e os relacionamentos entre elas."
      ]
    },
    {
      "cell_type": "code",
      "metadata": {
        "id": "pULVxhYY8Vja",
        "colab_type": "code",
        "outputId": "fdf47e63-cf5f-408a-8369-d6b4bc1bfcb3",
        "colab": {
          "base_uri": "https://localhost:8080/",
          "height": 279
        }
      },
      "source": [
        "# plotar os dados das variáveis Survived x Pclass, Sex, Embarked\n",
        "fig, (axis1,axis2,axis3) = plt.subplots(1,3, figsize=(12,4))\n",
        "\n",
        "sns.barplot(x='Pclass', y='Survived', data=train, ax=axis1)\n",
        "sns.barplot(x='Sex', y='Survived', data=train, ax=axis2)\n",
        "sns.barplot(x='Embarked', y='Survived', data=train, ax=axis3);"
      ],
      "execution_count": 10,
      "outputs": [
        {
          "output_type": "display_data",
          "data": {
            "image/png": "[encoded data removed]",
            "text/plain": [
              "<Figure size 864x288 with 3 Axes>"
            ]
          },
          "metadata": {
            "tags": []
          }
        }
      ]
    },
    {
      "cell_type": "markdown",
      "metadata": {
        "id": "8QhVdzqj_xP8",
        "colab_type": "text"
      },
      "source": [
        "Através dos gráficos plotados conseguimos de cara já responder duas suposições:\n",
        "\n",
        "1.   Os passageiros da 3º classe tiveram menos chances de sobreviver do que os passageiros da 1ª classe.\n",
        "2.   As mulheres tiveram 75% de chance de sobrevivência comparado com os homens que tiveram somente 18%.\n",
        "\n",
        "Agora vamos ver se a variável age teve alguma influência na sobrevivência.\n",
        "\n"
      ]
    },
    {
      "cell_type": "code",
      "metadata": {
        "id": "Kb5H8kPdBBoa",
        "colab_type": "code",
        "outputId": "cb302f0a-ce3f-4e57-927f-96da7ca70c1e",
        "colab": {
          "base_uri": "https://localhost:8080/",
          "height": 225
        }
      },
      "source": [
        "# ver influência da idade na probabilidade de sobrevivência\n",
        "age_survived = sns.FacetGrid(train, col='Survived')\n",
        "age_survived.map(sns.distplot,'Age');"
      ],
      "execution_count": 11,
      "outputs": [
        {
          "output_type": "display_data",
          "data": {
            "image/png": "[encoded data removed]",
            "text/plain": [
              "<Figure size 432x216 with 2 Axes>"
            ]
          },
          "metadata": {
            "tags": []
          }
        }
      ]
    },
    {
      "cell_type": "markdown",
      "metadata": {
        "id": "EBvZ4-56COGo",
        "colab_type": "text"
      },
      "source": [
        "Lembram do filme Titanic? Onde após a tragédia a ordem era colocar nos botes salva-vidas primeiro as crianças e as mulheres?\n",
        "\n",
        "Essa hipótese se confirma com os gráficos que plotamos acima. Apesar do comportamento da distribuição da idade ser relativamente parecidos, podemos perceber um pico dos sobreviventes quando se trata de crianças.\n",
        "\n",
        "Agora, vamos ver um gráfico bem legal de se analisar e que nos mostra bastante coisa...."
      ]
    },
    {
      "cell_type": "code",
      "metadata": {
        "id": "BrqwdP-jDeZ7",
        "colab_type": "code",
        "outputId": "0fed20d9-3dee-4f12-847b-76064bdecb01",
        "colab": {
          "base_uri": "https://localhost:8080/",
          "height": 500
        }
      },
      "source": [
        "# plotar uma scatter_matrix\n",
        "columns = ['Parch','SibSp','Age','Pclass']\n",
        "pd.plotting.scatter_matrix(train[columns], figsize=(10,8));"
      ],
      "execution_count": 13,
      "outputs": [
        {
          "output_type": "display_data",
          "data": {
            "image/png": "[encoded data removed]",
            "text/plain": [
              "<Figure size 720x576 with 16 Axes>"
            ]
          },
          "metadata": {
            "tags": []
          }
        }
      ]
    },
    {
      "cell_type": "markdown",
      "metadata": {
        "id": "iBchZWvTpRNA",
        "colab_type": "text"
      },
      "source": [
        "Esse tipo de gráfico consegue nos mostrar muitas coisas. Quando olhamos na diagonal conseguimos ver por exemplo, a maior concentração de pessoas idosas estão na 1ª classe e quase não temos crianças.\n",
        "\n",
        "Agora vamos dar uma olhada na correlação positiva e negativa entre as variáveis através do ***heatmap***."
      ]
    },
    {
      "cell_type": "code",
      "metadata": {
        "id": "CnX7zT0nuFNg",
        "colab_type": "code",
        "outputId": "f801b5f7-2ca8-4ae9-fe59-a75c4a480974",
        "colab": {
          "base_uri": "https://localhost:8080/",
          "height": 320
        }
      },
      "source": [
        "# plotando o heatmap para as variáveis numéricas\n",
        "sns.heatmap(train.corr(), cmap='coolwarm', fmt='.2f', linewidths=0.1,vmax=1.0, square=True, linecolor='white', annot=True);"
      ],
      "execution_count": 0,
      "outputs": [
        {
          "output_type": "display_data",
          "data": {
            "image/png": "[encoded data removed]",
            "text/plain": [
              "<Figure size 432x288 with 2 Axes>"
            ]
          },
          "metadata": {
            "tags": []
          }
        }
      ]
    },
    {
      "cell_type": "markdown",
      "metadata": {
        "id": "MywrI2O2vlYF",
        "colab_type": "text"
      },
      "source": [
        "# **4. Preparação dos Dados**\n",
        "\n",
        "Nesta etapa vamos realizar a junção dos dois arquivos disponibilizados para essa análise.\n",
        "\n",
        "É importante realizar essa junção dos dados para aplicarmos o modelo de *Machine Learning* e após isso separarmos, pois atráves desse processo conseguimos aplicar um *feature engineering* e após trabalharmos em cima desse modelo conseguimos treina-lo fazendo com que o arquivo de teste se comporte da mesma maneira que o outro arquivo.\n",
        "\n",
        "\n"
      ]
    },
    {
      "cell_type": "code",
      "metadata": {
        "id": "u3phhAphVTXL",
        "colab_type": "code",
        "colab": {}
      },
      "source": [
        "# salvar os datasets para recuperarmos depois\n",
        "train_idx = train.shape[0]\n",
        "test_idx = test.shape[0]"
      ],
      "execution_count": 0,
      "outputs": []
    },
    {
      "cell_type": "code",
      "metadata": {
        "id": "p8qGmCnjAnfx",
        "colab_type": "code",
        "colab": {}
      },
      "source": [
        "# salvar passengerId para submissão\n",
        "passengerId = test['PassengerId']"
      ],
      "execution_count": 0,
      "outputs": []
    },
    {
      "cell_type": "code",
      "metadata": {
        "id": "unqbxBsIAvLV",
        "colab_type": "code",
        "colab": {}
      },
      "source": [
        "# extrair coluna 'Survived' e excluir ela do dataset treino\n",
        "target = train.Survived.copy()\n",
        "train.drop(['Survived'], axis=1, inplace=True)"
      ],
      "execution_count": 0,
      "outputs": []
    },
    {
      "cell_type": "code",
      "metadata": {
        "id": "cRu8ai36AySx",
        "colab_type": "code",
        "colab": {}
      },
      "source": [
        "# concatenar treino e teste em um único DataFrame\n",
        "df_merged = pd.concat(objs=[train, test], axis = 0).reset_index(drop=True)"
      ],
      "execution_count": 0,
      "outputs": []
    },
    {
      "cell_type": "code",
      "metadata": {
        "id": "rpgH2vbhA3o1",
        "colab_type": "code",
        "outputId": "5c097700-90d4-4957-ba19-83a361feeb9e",
        "colab": {
          "base_uri": "https://localhost:8080/",
          "height": 34
        }
      },
      "source": [
        "print(\"df_merged.shape: ({} x {})\".format(df_merged.shape[0], df_merged.shape[1]))"
      ],
      "execution_count": 0,
      "outputs": [
        {
          "output_type": "stream",
          "text": [
            "df_merged.shape: (1309 x 11)\n"
          ],
          "name": "stdout"
        }
      ]
    },
    {
      "cell_type": "markdown",
      "metadata": {
        "id": "BKWfqLlABVPh",
        "colab_type": "text"
      },
      "source": [
        "Agora vamos selecionar quais as *features* vamos trabalhar o nosso modelo, ou seja, vamos descartar aquelas que aparentemente tem menos relevância. As variáveis que vamos desconsiderar serão as ***PassengerId, Name, Ticket*** e ***Cabin***.\n",
        "\n",
        "As features que sobraram para o nosso modelo para serem tratadas e preparadas são as ***Pclass, Sex, Age, SibSp, Parch, Fare*** e ***Embarked.*** "
      ]
    },
    {
      "cell_type": "code",
      "metadata": {
        "id": "WXg8tg_LCgOS",
        "colab_type": "code",
        "colab": {}
      },
      "source": [
        "# excluindo as variáveis PassengerId, Name, Ticket e Cabin\n",
        "df_merged.drop(['PassengerId','Name','Ticket', 'Cabin'], axis=1, inplace=True)"
      ],
      "execution_count": 0,
      "outputs": []
    },
    {
      "cell_type": "markdown",
      "metadata": {
        "id": "IH1FttImDYcP",
        "colab_type": "text"
      },
      "source": [
        "## **4.1 Tratativa para os valores faltantes**\n",
        "\n",
        "Nessa próxima etapa vamos verificar quais são os valores faltantes para cada variável e iremos tratar os campos vazios.\n",
        "\n",
        "A tratativa escolhida para esses campos faltantes será a de completa-los com média, mediana ou maior frequência, para cada variável será adotado um dos métodos que para mim é o que melhor se encaixa.\n",
        "\n",
        "Abaixo vemos que temos apenas as colunas Age, Fare e Embarked com campos ausentes."
      ]
    },
    {
      "cell_type": "code",
      "metadata": {
        "id": "nLXVK94gEpUU",
        "colab_type": "code",
        "outputId": "2068ada7-e4a3-430d-e0fc-f5116bc17046",
        "colab": {
          "base_uri": "https://localhost:8080/",
          "height": 153
        }
      },
      "source": [
        "# verificando quais variáveis possuem valores nulos\n",
        "df_merged.isnull().sum()"
      ],
      "execution_count": 0,
      "outputs": [
        {
          "output_type": "execute_result",
          "data": {
            "text/plain": [
              "Pclass        0\n",
              "Sex           0\n",
              "Age         263\n",
              "SibSp         0\n",
              "Parch         0\n",
              "Fare          1\n",
              "Embarked      2\n",
              "dtype: int64"
            ]
          },
          "metadata": {
            "tags": []
          },
          "execution_count": 20
        }
      ]
    },
    {
      "cell_type": "markdown",
      "metadata": {
        "id": "Qr-Ar4yVE6jt",
        "colab_type": "text"
      },
      "source": [
        "Para as variáveis Age e Fare irei preencher com a mediana e para a variável do Embarked irei preencher com a maior frequencia."
      ]
    },
    {
      "cell_type": "code",
      "metadata": {
        "id": "JbM9ogOnFvDD",
        "colab_type": "code",
        "colab": {}
      },
      "source": [
        "# Age: completando os campos nulos com a mediana\n",
        "age_median = df_merged['Age'].median()\n",
        "df_merged['Age'].fillna(age_median, inplace=True)"
      ],
      "execution_count": 0,
      "outputs": []
    },
    {
      "cell_type": "code",
      "metadata": {
        "id": "xlWyJ42uGG4G",
        "colab_type": "code",
        "colab": {}
      },
      "source": [
        "# Fare: completando os campos nulos com a mediana\n",
        "fare_median = df_merged['Fare'].median()\n",
        "df_merged['Fare'].fillna(fare_median, inplace=True)"
      ],
      "execution_count": 0,
      "outputs": []
    },
    {
      "cell_type": "code",
      "metadata": {
        "id": "89o7o4csGbDi",
        "colab_type": "code",
        "colab": {}
      },
      "source": [
        "# Embarked: completando os campos nulos com a maior frequencia\n",
        "embarked_max = df_merged['Embarked'].value_counts()[0]\n",
        "df_merged['Embarked'].fillna(embarked_max, inplace=True)"
      ],
      "execution_count": 0,
      "outputs": []
    },
    {
      "cell_type": "markdown",
      "metadata": {
        "id": "yerdtXsvHHgS",
        "colab_type": "text"
      },
      "source": [
        "## **4.2 Preparando as variáveis para o modelo**\n",
        "\n",
        "Para podermos aplicar um modelo matemático precisamos ter todos os dados numéricos e para isso precisamos transformar o formato de algumas variáveis que estão como categórica.\n",
        "\n",
        "A primeira variável que vamos transformar será a coluna ***Sex***, pois como vimos nas primeiras entradas do DataFrame ela possui informações de **['Male' , 'Female']**. Então, vamos transformar essas informações em binário **'Male' = 1 e 'Female' = 0**.\n",
        "\n",
        "A segunda variável é a ***Embarked***, aqui vamos aplicar o conceito de variáveis *dummies*, ou seja, para cada valor possível da variável categórica será criado uma nova coluna com os valores 0 e 1."
      ]
    },
    {
      "cell_type": "code",
      "metadata": {
        "id": "9zOTsa11JAp2",
        "colab_type": "code",
        "outputId": "3afcea7f-2253-4c2b-b241-6b24040fd9dd",
        "colab": {
          "base_uri": "https://localhost:8080/",
          "height": 204
        }
      },
      "source": [
        "# tratando a variável Sex: valores binários\n",
        "df_merged['Sex'] = df_merged['Sex'].map({'male': 1, 'female': 0})\n",
        "\n",
        "# tratando a variável Embarked: variável dummy\n",
        "embarked_dummies = pd.get_dummies(df_merged['Embarked'], prefix='Embarked')\n",
        "df_merged = pd.concat([df_merged, embarked_dummies], axis=1)\n",
        "df_merged.drop('Embarked', axis=1, inplace=True)\n",
        "\n",
        "display(df_merged.head())"
      ],
      "execution_count": 0,
      "outputs": [
        {
          "output_type": "display_data",
          "data": {
            "text/html": [
              "<div>\n",
              "<style scoped>\n",
              "    .dataframe tbody tr th:only-of-type {\n",
              "        vertical-align: middle;\n",
              "    }\n",
              "\n",
              "    .dataframe tbody tr th {\n",
              "        vertical-align: top;\n",
              "    }\n",
              "\n",
              "    .dataframe thead th {\n",
              "        text-align: right;\n",
              "    }\n",
              "</style>\n",
              "<table border=\"1\" class=\"dataframe\">\n",
              "  <thead>\n",
              "    <tr style=\"text-align: right;\">\n",
              "      <th></th>\n",
              "      <th>Pclass</th>\n",
              "      <th>Sex</th>\n",
              "      <th>Age</th>\n",
              "      <th>SibSp</th>\n",
              "      <th>Parch</th>\n",
              "      <th>Fare</th>\n",
              "      <th>Embarked_914</th>\n",
              "      <th>Embarked_C</th>\n",
              "      <th>Embarked_Q</th>\n",
              "      <th>Embarked_S</th>\n",
              "    </tr>\n",
              "  </thead>\n",
              "  <tbody>\n",
              "    <tr>\n",
              "      <th>0</th>\n",
              "      <td>3</td>\n",
              "      <td>1</td>\n",
              "      <td>22.0</td>\n",
              "      <td>1</td>\n",
              "      <td>0</td>\n",
              "      <td>7.2500</td>\n",
              "      <td>0</td>\n",
              "      <td>0</td>\n",
              "      <td>0</td>\n",
              "      <td>1</td>\n",
              "    </tr>\n",
              "    <tr>\n",
              "      <th>1</th>\n",
              "      <td>1</td>\n",
              "      <td>0</td>\n",
              "      <td>38.0</td>\n",
              "      <td>1</td>\n",
              "      <td>0</td>\n",
              "      <td>71.2833</td>\n",
              "      <td>0</td>\n",
              "      <td>1</td>\n",
              "      <td>0</td>\n",
              "      <td>0</td>\n",
              "    </tr>\n",
              "    <tr>\n",
              "      <th>2</th>\n",
              "      <td>3</td>\n",
              "      <td>0</td>\n",
              "      <td>26.0</td>\n",
              "      <td>0</td>\n",
              "      <td>0</td>\n",
              "      <td>7.9250</td>\n",
              "      <td>0</td>\n",
              "      <td>0</td>\n",
              "      <td>0</td>\n",
              "      <td>1</td>\n",
              "    </tr>\n",
              "    <tr>\n",
              "      <th>3</th>\n",
              "      <td>1</td>\n",
              "      <td>0</td>\n",
              "      <td>35.0</td>\n",
              "      <td>1</td>\n",
              "      <td>0</td>\n",
              "      <td>53.1000</td>\n",
              "      <td>0</td>\n",
              "      <td>0</td>\n",
              "      <td>0</td>\n",
              "      <td>1</td>\n",
              "    </tr>\n",
              "    <tr>\n",
              "      <th>4</th>\n",
              "      <td>3</td>\n",
              "      <td>1</td>\n",
              "      <td>35.0</td>\n",
              "      <td>0</td>\n",
              "      <td>0</td>\n",
              "      <td>8.0500</td>\n",
              "      <td>0</td>\n",
              "      <td>0</td>\n",
              "      <td>0</td>\n",
              "      <td>1</td>\n",
              "    </tr>\n",
              "  </tbody>\n",
              "</table>\n",
              "</div>"
            ],
            "text/plain": [
              "   Pclass  Sex   Age  SibSp  Parch     Fare  Embarked_914  Embarked_C  \\\n",
              "0       3    1  22.0      1      0   7.2500             0           0   \n",
              "1       1    0  38.0      1      0  71.2833             0           1   \n",
              "2       3    0  26.0      0      0   7.9250             0           0   \n",
              "3       1    0  35.0      1      0  53.1000             0           0   \n",
              "4       3    1  35.0      0      0   8.0500             0           0   \n",
              "\n",
              "   Embarked_Q  Embarked_S  \n",
              "0           0           1  \n",
              "1           0           0  \n",
              "2           0           1  \n",
              "3           0           1  \n",
              "4           0           1  "
            ]
          },
          "metadata": {
            "tags": []
          }
        }
      ]
    },
    {
      "cell_type": "markdown",
      "metadata": {
        "id": "M--pmNUeMkok",
        "colab_type": "text"
      },
      "source": [
        "Agora que fizemos todas as tratativas que precisavamos vamos separar o *DataFrame* **df_merged** nos arquivos iniciais ***train e test***. "
      ]
    },
    {
      "cell_type": "code",
      "metadata": {
        "id": "3QR3tFFENDV3",
        "colab_type": "code",
        "colab": {}
      },
      "source": [
        "# separando o arquivo df_merged nos arquivos iniciais train e test\n",
        "train = df_merged.iloc[:train_idx]\n",
        "test = df_merged.iloc[train_idx:]"
      ],
      "execution_count": 0,
      "outputs": []
    },
    {
      "cell_type": "markdown",
      "metadata": {
        "id": "LKlkbn6yNZRK",
        "colab_type": "text"
      },
      "source": [
        "# **5. Construção do modelo e avaliações**\n",
        "\n",
        "Agora sim, depois de realizada as análises exploratórias dos dados e as tratativas vamos montar nosso modelo de **Machine Learning**.\n",
        "\n",
        "Para esse caso irei realizar o modelo de Árvore de Decisão.\n",
        "\n"
      ]
    },
    {
      "cell_type": "code",
      "metadata": {
        "id": "7mHFHAALOmgX",
        "colab_type": "code",
        "outputId": "4fac0b84-1159-494d-8c80-92425083942b",
        "colab": {
          "base_uri": "https://localhost:8080/",
          "height": 34
        }
      },
      "source": [
        "# criando o modelo de Árvore de Decissão\n",
        "tree_model = DecisionTreeClassifier(max_depth=3)\n",
        "tree_model.fit(train,target)\n",
        "\n",
        "# verificando a acurácia do modelo\n",
        "acc_tree = round(tree_model.score(train, target) * 100, 2)\n",
        "print(\"Acurácia do modelo de Árvore de Decissão: {}\".format(acc_tree))"
      ],
      "execution_count": 0,
      "outputs": [
        {
          "output_type": "stream",
          "text": [
            "Acurácia do modelo de Árvore de Decissão: 82.72\n"
          ],
          "name": "stdout"
        }
      ]
    },
    {
      "cell_type": "markdown",
      "metadata": {
        "id": "1UQhl9PIP3Kw",
        "colab_type": "text"
      },
      "source": [
        "Com esse modelo conseguimos uma acurácia de quase 83%, o que é muito bom.\n",
        "\n",
        "Agora vamos submeter o modelo criado no Kaggle e ver o resultado..."
      ]
    },
    {
      "cell_type": "code",
      "metadata": {
        "id": "snqBRctORbTU",
        "colab_type": "code",
        "colab": {}
      },
      "source": [
        "# submetendo o modelo no Kaggle\n",
        "y_pred_tree = tree_model.predict(test)\n",
        "\n",
        "submission = pd.DataFrame({\n",
        "    \"PassengerId\": passengerId,\n",
        "    \"Survived\": y_pred_tree\n",
        "})\n",
        "\n",
        "# gerar o arquivo csv\n",
        "submission.to_csv('./submission_tree.csv', index=False)"
      ],
      "execution_count": 0,
      "outputs": []
    },
    {
      "cell_type": "markdown",
      "metadata": {
        "id": "ypiGjmzIRT1h",
        "colab_type": "text"
      },
      "source": [
        "Como eu já imaginava, após submeter o treino no Kaggle a acurácia do modelo construído deu 78%, o que é normal de acontecer, uma vez que o modelo construído foi realizado através de um dataset de treino."
      ]
    },
    {
      "cell_type": "markdown",
      "metadata": {
        "id": "rBDKnHlPWQLV",
        "colab_type": "text"
      },
      "source": [
        "# **6. Será que eu sobreviveria ao desastre do Titanic?**\n",
        "\n",
        "Depois de construir o modelo posso finalmente matar a minha curiosidade e saber se eu e minha família teríamos sobrevivido ao desastre.\n",
        "\n",
        "Vou considerar que nessa viagem foram eu e meu marido, com isso consideramos que fomos viajar de 2ª classe, ambos com 29 anos, sem acompanhante, tendo pago o preço médio do ticket e embarcado no porto de Queenstown."
      ]
    },
    {
      "cell_type": "code",
      "metadata": {
        "id": "ChYn7eXIWu_J",
        "colab_type": "code",
        "outputId": "98e9dd7b-fb8a-4f85-d8d4-722422571170",
        "colab": {
          "base_uri": "https://localhost:8080/",
          "height": 51
        }
      },
      "source": [
        "# declarando os valores das variáveis\n",
        "natalia = np.array([2,0,29,1,0,32.2,0,0,1,0]).reshape((1,-1))\n",
        "marcelo = np.array([2,1,29,1,0,32.2,0,0,1,0]).reshape((1,-1))\n",
        "\n",
        "# verificar se nós teriamos sobrevividos\n",
        "print(\"Natália:\\t{}\".format(tree_model.predict(natalia)[0]))\n",
        "print(\"Marcelo:\\t{}\".format(tree_model.predict(marcelo)[0]))"
      ],
      "execution_count": 0,
      "outputs": [
        {
          "output_type": "stream",
          "text": [
            "Natália:\t1\n",
            "Marcelo:\t0\n"
          ],
          "name": "stdout"
        }
      ]
    },
    {
      "cell_type": "markdown",
      "metadata": {
        "id": "Bj8qKDoCe9lp",
        "colab_type": "text"
      },
      "source": [
        "Como vimos até agora, os homens foram os que menos tiveram chance de sobrevivência e o resultado da simulação mostra exatamente isso. Apenas eu sobreviveria ao naufrágio."
      ]
    }
  ]
}